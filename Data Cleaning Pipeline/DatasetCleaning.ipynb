{
 "cells": [
  {
   "cell_type": "code",
   "execution_count": 1,
   "metadata": {},
   "outputs": [],
   "source": [
    "import math\n",
    "import pandas as pd\n",
    "import numpy as np\n",
    "import matplotlib.pyplot as plt\n",
    "import seaborn as sns\n",
    "import os\n",
    "\n",
    "%matplotlib inline\n",
    "sns.set_style(\"darkgrid\")"
   ]
  },
  {
   "cell_type": "code",
   "execution_count": 2,
   "metadata": {},
   "outputs": [],
   "source": [
    "jobs_df = pd.read_csv(\"../../../../Documents/DOB_Job_Application_Filings.csv\", low_memory=False)"
   ]
  },
  {
   "cell_type": "code",
   "execution_count": 3,
   "metadata": {},
   "outputs": [
    {
     "name": "stdout",
     "output_type": "stream",
     "text": [
      "Number of rows before cleaning    : 1756231\n",
      "Number of columns before cleaning : 96\n",
      "Column name, type : House #, object\n",
      "6\n",
      "Column name, type : Street Name, object\n",
      "6\n",
      "Column name, type : Block, object\n",
      "752\n",
      "Column name, type : Lot, object\n",
      "756\n",
      "Column name, type : Latest Action Date, object\n",
      "1\n",
      "Column name, type : Community - Board, object\n",
      "2776\n",
      "Column name, type : Cluster, object\n",
      "643481\n",
      "Column name, type : Landmarked, object\n",
      "104100\n",
      "Column name, type : Adult Estab, object\n",
      "191909\n",
      "Column name, type : Loft Board, object\n",
      "374015\n",
      "Column name, type : City Owned, object\n",
      "1609433\n",
      "Column name, type : Little e, object\n",
      "727833\n",
      "Column name, type : PC Filed, object\n",
      "1154026\n",
      "Column name, type : eFiling Filed, object\n",
      "693287\n",
      "Column name, type : Plumbing, object\n",
      "1200201\n",
      "Column name, type : Mechanical, object\n",
      "1471914\n",
      "Column name, type : Boiler, object\n",
      "1706221\n",
      "Column name, type : Fuel Burning, object\n",
      "1734777\n",
      "Column name, type : Fuel Storage, object\n",
      "1741970\n",
      "Column name, type : Standpipe, object\n",
      "1741841\n",
      "Column name, type : Sprinkler, object\n",
      "1639765\n",
      "Column name, type : Fire Alarm, object\n",
      "1668522\n",
      "Column name, type : Equipment, object\n",
      "1450434\n",
      "Column name, type : Fire Suppression, object\n",
      "1712858\n",
      "Column name, type : Curb Cut, object\n",
      "1695016\n",
      "Column name, type : Other, object\n",
      "729665\n",
      "Column name, type : Other Description, object\n",
      "731466\n",
      "Column name, type : Applicant's First Name, object\n",
      "59\n",
      "Column name, type : Applicant's Last Name, object\n",
      "12\n",
      "Column name, type : Applicant Professional Title, object\n",
      "83\n",
      "Column name, type : Applicant License #, object\n",
      "48690\n",
      "Column name, type : Professional Cert, object\n",
      "378193\n",
      "Column name, type : Paid, object\n",
      "9139\n",
      "Column name, type : Fully Paid, object\n",
      "6648\n",
      "Column name, type : Assigned, object\n",
      "576598\n",
      "Column name, type : Approved, object\n",
      "330721\n",
      "Column name, type : Fully Permitted, object\n",
      "469557\n",
      "Column name, type : Horizontal Enlrgmt, object\n",
      "1710636\n",
      "Column name, type : Vertical Enlrgmt, object\n",
      "1724211\n",
      "Column name, type : Existing Dwelling Units, object\n",
      "1124647\n",
      "Column name, type : Proposed Dwelling Units, object\n",
      "849264\n",
      "Column name, type : Existing Occupancy, object\n",
      "500057\n",
      "Column name, type : Proposed Occupancy, object\n",
      "706873\n",
      "Column name, type : Site Fill, object\n",
      "345014\n",
      "Column name, type : Zoning Dist1, object\n",
      "334098\n",
      "Column name, type : Zoning Dist2, object\n",
      "1563811\n",
      "Column name, type : Zoning Dist3, object\n",
      "1746023\n",
      "Column name, type : Special District 1, object\n",
      "1496941\n",
      "Column name, type : Special District 2, object\n",
      "1680633\n",
      "Column name, type : Owner Type, object\n",
      "73386\n",
      "Column name, type : Non-Profit, object\n",
      "71538\n",
      "Column name, type : Owner's First Name, object\n",
      "279\n",
      "Column name, type : Owner's Last Name, object\n",
      "211\n",
      "Column name, type : Owner's Business Name, object\n",
      "342257\n",
      "Column name, type : Owner's House Number, object\n",
      "209\n",
      "Column name, type : Owner'sHouse Street Name, object\n",
      "16\n",
      "Column name, type : City , object\n",
      "68\n",
      "Column name, type : State, object\n",
      "60\n",
      "Column name, type : Zip, object\n",
      "717\n",
      "Column name, type : Owner'sPhone #, object\n",
      "11477\n",
      "Column name, type : Job Description, object\n",
      "110479\n",
      "Column name, type : SIGNOFF_DATE, object\n",
      "736924\n",
      "Column name, type : SPECIAL_ACTION_STATUS, object\n",
      "20245\n",
      "Column name, type : SPECIAL_ACTION_DATE, object\n",
      "1594369\n",
      "Column name, type : BUILDING_CLASS, object\n",
      "834102\n",
      "Column name, type : GIS_LATITUDE, float64\n",
      "6935\n",
      "Column name, type : GIS_LONGITUDE, float64\n",
      "6935\n",
      "Column name, type : GIS_COUNCIL_DISTRICT, float64\n",
      "6935\n",
      "Column name, type : GIS_CENSUS_TRACT, float64\n",
      "6935\n",
      "Column name, type : GIS_NTA_NAME, object\n",
      "6935\n",
      "Column name, type : GIS_BIN, float64\n",
      "27824\n",
      "Remaining columns to clean : 71\n"
     ]
    }
   ],
   "source": [
    "rem = 0\n",
    "print(\"Number of rows before cleaning    : {}\".format(jobs_df.shape[0]))\n",
    "print(\"Number of columns before cleaning : {}\".format(jobs_df.shape[1]))\n",
    "for col in jobs_df.columns:\n",
    "    if jobs_df[col].isna().sum() >0:\n",
    "        rem += 1\n",
    "        print(\"Column name, type : {}, {}\".format(col, jobs_df[col].dtypes))\n",
    "        print(jobs_df[col].isna().sum())\n",
    "print(\"Remaining columns to clean : {}\".format(rem))"
   ]
  },
  {
   "cell_type": "code",
   "execution_count": 4,
   "metadata": {},
   "outputs": [],
   "source": [
    "# Cleaning Job types columns :\n",
    "job_types = [\"Plumbing\", \"Mechanical\", \"Boiler\", \"Fuel Burning\", \"Fuel Storage\", \"Standpipe\", \n",
    "             \"Sprinkler\", \"Fire Alarm\", \"Equipment\", \"Fire Suppression\", \"Curb Cut\", \"Other\"]\n",
    "\n",
    "for job_type in job_types:\n",
    "    jobs_df[job_type] = jobs_df[job_type].map(lambda val: 1 if val == \"X\" else 0)"
   ]
  },
  {
   "cell_type": "code",
   "execution_count": 5,
   "metadata": {},
   "outputs": [],
   "source": [
    "# Cleaning Binary variables\n",
    "jobs_df[\"City Owned\"] = jobs_df[\"City Owned\"].map(lambda val: 1 if val == \"Y\" else 0)\n",
    "jobs_df[\"Landmarked\"] = jobs_df[\"Landmarked\"].map(lambda val: 1 if val == \"Y\" else 0)\n",
    "jobs_df[\"Adult Estab\"] = jobs_df[\"Adult Estab\"].map(lambda val: 0 if val == \"N\" else 1)\n",
    "jobs_df[\"Little e\"] = jobs_df[\"Little e\"].map(lambda val: 1 if val == \"H\" else 0)\n",
    "\n",
    "jobs_df[\"Zoning Dist1\"] = jobs_df[\"Zoning Dist1\"].map(lambda val: 0 if pd.isnull(val)  else 1) # Residence\n",
    "jobs_df[\"Zoning Dist2\"] = jobs_df[\"Zoning Dist2\"].map(lambda val: 0 if pd.isnull(val)  else 1) # Commercial\n",
    "jobs_df[\"Zoning Dist3\"] = jobs_df[\"Zoning Dist3\"].map(lambda val: 0 if pd.isnull(val)  else 1) # Manufacturing\n",
    "\n",
    "jobs_df[\"Special District 1\"] = jobs_df[\"Special District 1\"].map(lambda val: 1 if not pd.isnull(val) else 0)\n",
    "jobs_df[\"Special District 2\"] = jobs_df[\"Special District 2\"].map(lambda val: 1 if not pd.isnull(val) else 0)\n",
    "jobs_df[\"Special District\"] = jobs_df[\"Special District 1\"] + jobs_df[\"Special District 2\"]\n",
    "jobs_df[\"Special District\"] = jobs_df[\"Special District\"].map(lambda val: 0 if val == 0 else 1)\n",
    "\n",
    "# Cleaning missing values in other columns\n",
    "jobs_df[\"Vertical Enlrgmt\"] = jobs_df[\"Vertical Enlrgmt\"].map(lambda val: 0 if pd.isnull(val) else val)\n",
    "jobs_df[\"Horizontal Enlrgmt\"] = jobs_df[\"Horizontal Enlrgmt\"].map(lambda val: 0 if pd.isnull(val) else val)\n",
    "jobs_df[\"Other Description\"] = jobs_df[\"Other Description\"].map(lambda desc: desc if not pd.isnull(desc) else \"\")"
   ]
  },
  {
   "cell_type": "code",
   "execution_count": 6,
   "metadata": {},
   "outputs": [
    {
     "name": "stdout",
     "output_type": "stream",
     "text": [
      "36\n"
     ]
    }
   ],
   "source": [
    "# Dropping uniteresting columns\n",
    "useless_columns = [\"PC Filed\", \"eFiling Filed\", \"Cluster\", \"Loft Board\", \"Non-Profit\", \"Other Description\",\n",
    "                   \"Applicant's First Name\", \"Applicant's Last Name\", \"Applicant Professional Title\", \"Applicant License #\",\n",
    "                   \"Professional Cert\", \"Professional Cert\", \"Owner's First Name\", \"Owner's Last Name\", \"Owner's Business Name\",\n",
    "                   \"Owner's House Number\", \"Owner'sHouse Street Name\",\"Existing Dwelling Units\", \"Proposed Dwelling Units\",\n",
    "                   \"City \", \"State\", \"Zip\", \"Owner'sPhone #\", \"BUILDING_CLASS\", \"Job Description\", \"SIGNOFF_DATE\", \"Assigned\",\n",
    "                   \"Approved\", \"Fully Permitted\", \"Existing Occupancy\", \"Proposed Occupancy\", \"SPECIAL_ACTION_DATE\", \n",
    "                   \"SPECIAL_ACTION_STATUS\", \"Site Fill\", \"Special District 1\", \"Special District 2\"]\n",
    "\n",
    "print(len(useless_columns))\n",
    "\n",
    "jobs_df = jobs_df.drop(labels = useless_columns, axis = 1)"
   ]
  },
  {
   "cell_type": "code",
   "execution_count": 7,
   "metadata": {},
   "outputs": [],
   "source": [
    "# Deletes rows with na values on these columns:\n",
    "columns_drop_na = [\"House #\", \"Street Name\", \"Block\", \"Lot\", \"GIS_LATITUDE\", \"GIS_LONGITUDE\",\n",
    "                   \"GIS_COUNCIL_DISTRICT\", \"GIS_CENSUS_TRACT\", \"GIS_NTA_NAME\", \"GIS_BIN\", \"Latest Action Date\",\n",
    "                   \"Community - Board\", \"Paid\", \"Fully Paid\", \"Owner Type\"]\n",
    "\n",
    "jobs_df = jobs_df.dropna(subset = columns_drop_na)"
   ]
  },
  {
   "cell_type": "code",
   "execution_count": 8,
   "metadata": {},
   "outputs": [
    {
     "name": "stdout",
     "output_type": "stream",
     "text": [
      "Number of rows after cleaning    : 1648171\n",
      "Number of columns after cleaning : 62\n",
      "Remaining columns to clean : 0\n"
     ]
    }
   ],
   "source": [
    "rem = 0\n",
    "print(\"Number of rows after cleaning    : {}\".format(jobs_df.shape[0]))\n",
    "print(\"Number of columns after cleaning : {}\".format(jobs_df.shape[1]))\n",
    "for col in jobs_df.columns:\n",
    "    if jobs_df[col].isna().sum() >0:\n",
    "        rem += 1\n",
    "        print(\"Column name, type : {}, {}\".format(col, jobs_df[col].dtypes))\n",
    "        print(jobs_df[col].isna().sum())\n",
    "print(\"Remaining columns to clean : {}\".format(rem))"
   ]
  },
  {
   "cell_type": "code",
   "execution_count": 9,
   "metadata": {},
   "outputs": [],
   "source": [
    "jobs_df.to_csv(\"../../../../Desktop/Jobs_dataset_cleaned_1.0.csv\")"
   ]
  }
 ],
 "metadata": {
  "kernelspec": {
   "display_name": "Python 3",
   "language": "python",
   "name": "python3"
  },
  "language_info": {
   "codemirror_mode": {
    "name": "ipython",
    "version": 3
   },
   "file_extension": ".py",
   "mimetype": "text/x-python",
   "name": "python",
   "nbconvert_exporter": "python",
   "pygments_lexer": "ipython3",
   "version": "3.8.3"
  }
 },
 "nbformat": 4,
 "nbformat_minor": 4
}
