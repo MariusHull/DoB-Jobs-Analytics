{
 "cells": [
  {
   "cell_type": "code",
   "execution_count": 1,
   "metadata": {},
   "outputs": [],
   "source": [
    "import math\n",
    "import pandas as pd\n",
    "import numpy as np\n",
    "import matplotlib.pyplot as plt\n"
   ]
  },
  {
   "cell_type": "markdown",
   "metadata": {},
   "source": [
    "# Step 1 : Dealing with missing values"
   ]
  },
  {
   "cell_type": "code",
   "execution_count": 2,
   "metadata": {},
   "outputs": [
    {
     "name": "stderr",
     "output_type": "stream",
     "text": [
      "C:\\ProgramData\\Anaconda3\\lib\\site-packages\\IPython\\core\\interactiveshell.py:3071: DtypeWarning: Columns (5,6,13,14,21,32,38,59,60,68,78,79) have mixed types.Specify dtype option on import or set low_memory=False.\n",
      "  has_raised = await self.run_ast_nodes(code_ast.body, cell_name,\n"
     ]
    }
   ],
   "source": [
    "# TODO Replace with your own path to the csv file before running\n",
    "path_to_original_csv = \"../Datasets/DOB_Job_Application_Filings.csv\"\n",
    "\n",
    "jobs_df = pd.read_csv(path_to_original_csv)"
   ]
  },
  {
   "cell_type": "code",
   "execution_count": 3,
   "metadata": {},
   "outputs": [
    {
     "data": {
      "text/html": [
       "<div>\n",
       "<style scoped>\n",
       "    .dataframe tbody tr th:only-of-type {\n",
       "        vertical-align: middle;\n",
       "    }\n",
       "\n",
       "    .dataframe tbody tr th {\n",
       "        vertical-align: top;\n",
       "    }\n",
       "\n",
       "    .dataframe thead th {\n",
       "        text-align: right;\n",
       "    }\n",
       "</style>\n",
       "<table border=\"1\" class=\"dataframe\">\n",
       "  <thead>\n",
       "    <tr style=\"text-align: right;\">\n",
       "      <th></th>\n",
       "      <th>Job #</th>\n",
       "      <th>Doc #</th>\n",
       "      <th>Borough</th>\n",
       "      <th>House #</th>\n",
       "      <th>Street Name</th>\n",
       "      <th>Block</th>\n",
       "      <th>Lot</th>\n",
       "      <th>Bin #</th>\n",
       "      <th>Job Type</th>\n",
       "      <th>Job Status</th>\n",
       "      <th>...</th>\n",
       "      <th>SPECIAL_ACTION_STATUS</th>\n",
       "      <th>SPECIAL_ACTION_DATE</th>\n",
       "      <th>BUILDING_CLASS</th>\n",
       "      <th>JOB_NO_GOOD_COUNT</th>\n",
       "      <th>GIS_LATITUDE</th>\n",
       "      <th>GIS_LONGITUDE</th>\n",
       "      <th>GIS_COUNCIL_DISTRICT</th>\n",
       "      <th>GIS_CENSUS_TRACT</th>\n",
       "      <th>GIS_NTA_NAME</th>\n",
       "      <th>GIS_BIN</th>\n",
       "    </tr>\n",
       "  </thead>\n",
       "  <tbody>\n",
       "    <tr>\n",
       "      <th>0</th>\n",
       "      <td>110083524</td>\n",
       "      <td>2</td>\n",
       "      <td>MANHATTAN</td>\n",
       "      <td>152</td>\n",
       "      <td>WEST   57 STREET</td>\n",
       "      <td>1009</td>\n",
       "      <td>5</td>\n",
       "      <td>1084455</td>\n",
       "      <td>A2</td>\n",
       "      <td>X</td>\n",
       "      <td>...</td>\n",
       "      <td>A</td>\n",
       "      <td>NaN</td>\n",
       "      <td>NaN</td>\n",
       "      <td>0</td>\n",
       "      <td>40.765185</td>\n",
       "      <td>-73.979279</td>\n",
       "      <td>4.0</td>\n",
       "      <td>137.0</td>\n",
       "      <td>Midtown-Midtown South</td>\n",
       "      <td>1084455.0</td>\n",
       "    </tr>\n",
       "    <tr>\n",
       "      <th>1</th>\n",
       "      <td>110083533</td>\n",
       "      <td>1</td>\n",
       "      <td>MANHATTAN</td>\n",
       "      <td>444</td>\n",
       "      <td>EAST   52 STREET</td>\n",
       "      <td>1363</td>\n",
       "      <td>27</td>\n",
       "      <td>1040141</td>\n",
       "      <td>A2</td>\n",
       "      <td>X</td>\n",
       "      <td>...</td>\n",
       "      <td>N</td>\n",
       "      <td>NaN</td>\n",
       "      <td>NaN</td>\n",
       "      <td>0</td>\n",
       "      <td>40.754694</td>\n",
       "      <td>-73.964242</td>\n",
       "      <td>4.0</td>\n",
       "      <td>8603.0</td>\n",
       "      <td>Turtle Bay-East Midtown</td>\n",
       "      <td>1040141.0</td>\n",
       "    </tr>\n",
       "    <tr>\n",
       "      <th>2</th>\n",
       "      <td>110083542</td>\n",
       "      <td>1</td>\n",
       "      <td>MANHATTAN</td>\n",
       "      <td>2</td>\n",
       "      <td>WARDS ISLAND</td>\n",
       "      <td>1819</td>\n",
       "      <td>10</td>\n",
       "      <td>1085639</td>\n",
       "      <td>A1</td>\n",
       "      <td>J</td>\n",
       "      <td>...</td>\n",
       "      <td>W</td>\n",
       "      <td>08/25/2008</td>\n",
       "      <td>NaN</td>\n",
       "      <td>0</td>\n",
       "      <td>40.783512</td>\n",
       "      <td>-73.930157</td>\n",
       "      <td>8.0</td>\n",
       "      <td>240.0</td>\n",
       "      <td>park-cemetery-etc-Manhattan</td>\n",
       "      <td>NaN</td>\n",
       "    </tr>\n",
       "    <tr>\n",
       "      <th>3</th>\n",
       "      <td>110083542</td>\n",
       "      <td>2</td>\n",
       "      <td>MANHATTAN</td>\n",
       "      <td>2</td>\n",
       "      <td>WARDS ISLAND</td>\n",
       "      <td>1819</td>\n",
       "      <td>10</td>\n",
       "      <td>1085639</td>\n",
       "      <td>A1</td>\n",
       "      <td>J</td>\n",
       "      <td>...</td>\n",
       "      <td>W</td>\n",
       "      <td>08/25/2008</td>\n",
       "      <td>NaN</td>\n",
       "      <td>0</td>\n",
       "      <td>40.783512</td>\n",
       "      <td>-73.930157</td>\n",
       "      <td>8.0</td>\n",
       "      <td>240.0</td>\n",
       "      <td>park-cemetery-etc-Manhattan</td>\n",
       "      <td>NaN</td>\n",
       "    </tr>\n",
       "    <tr>\n",
       "      <th>4</th>\n",
       "      <td>110083542</td>\n",
       "      <td>3</td>\n",
       "      <td>MANHATTAN</td>\n",
       "      <td>2</td>\n",
       "      <td>WARDS ISLAND</td>\n",
       "      <td>1819</td>\n",
       "      <td>10</td>\n",
       "      <td>1085639</td>\n",
       "      <td>A1</td>\n",
       "      <td>D</td>\n",
       "      <td>...</td>\n",
       "      <td>W</td>\n",
       "      <td>08/25/2008</td>\n",
       "      <td>NaN</td>\n",
       "      <td>0</td>\n",
       "      <td>40.783512</td>\n",
       "      <td>-73.930157</td>\n",
       "      <td>8.0</td>\n",
       "      <td>240.0</td>\n",
       "      <td>park-cemetery-etc-Manhattan</td>\n",
       "      <td>NaN</td>\n",
       "    </tr>\n",
       "  </tbody>\n",
       "</table>\n",
       "<p>5 rows × 96 columns</p>\n",
       "</div>"
      ],
      "text/plain": [
       "       Job #  Doc #    Borough House #       Street Name Block Lot    Bin #  \\\n",
       "0  110083524      2  MANHATTAN     152  WEST   57 STREET  1009   5  1084455   \n",
       "1  110083533      1  MANHATTAN     444  EAST   52 STREET  1363  27  1040141   \n",
       "2  110083542      1  MANHATTAN       2      WARDS ISLAND  1819  10  1085639   \n",
       "3  110083542      2  MANHATTAN       2      WARDS ISLAND  1819  10  1085639   \n",
       "4  110083542      3  MANHATTAN       2      WARDS ISLAND  1819  10  1085639   \n",
       "\n",
       "  Job Type Job Status  ... SPECIAL_ACTION_STATUS SPECIAL_ACTION_DATE  \\\n",
       "0       A2          X  ...                     A                 NaN   \n",
       "1       A2          X  ...                     N                 NaN   \n",
       "2       A1          J  ...                     W          08/25/2008   \n",
       "3       A1          J  ...                     W          08/25/2008   \n",
       "4       A1          D  ...                     W          08/25/2008   \n",
       "\n",
       "  BUILDING_CLASS JOB_NO_GOOD_COUNT GIS_LATITUDE GIS_LONGITUDE  \\\n",
       "0            NaN                 0    40.765185    -73.979279   \n",
       "1            NaN                 0    40.754694    -73.964242   \n",
       "2            NaN                 0    40.783512    -73.930157   \n",
       "3            NaN                 0    40.783512    -73.930157   \n",
       "4            NaN                 0    40.783512    -73.930157   \n",
       "\n",
       "  GIS_COUNCIL_DISTRICT GIS_CENSUS_TRACT                 GIS_NTA_NAME  \\\n",
       "0                  4.0            137.0        Midtown-Midtown South   \n",
       "1                  4.0           8603.0      Turtle Bay-East Midtown   \n",
       "2                  8.0            240.0  park-cemetery-etc-Manhattan   \n",
       "3                  8.0            240.0  park-cemetery-etc-Manhattan   \n",
       "4                  8.0            240.0  park-cemetery-etc-Manhattan   \n",
       "\n",
       "     GIS_BIN  \n",
       "0  1084455.0  \n",
       "1  1040141.0  \n",
       "2        NaN  \n",
       "3        NaN  \n",
       "4        NaN  \n",
       "\n",
       "[5 rows x 96 columns]"
      ]
     },
     "execution_count": 3,
     "metadata": {},
     "output_type": "execute_result"
    }
   ],
   "source": [
    "jobs_df.head()\n",
    "# jobs_df.info()"
   ]
  },
  {
   "cell_type": "code",
   "execution_count": 4,
   "metadata": {},
   "outputs": [
    {
     "name": "stdout",
     "output_type": "stream",
     "text": [
      "Number of rows before cleaning    : 1756231\n",
      "Number of columns before cleaning : 96\n",
      "Column name, type : House #, object : values(s) missing\n",
      "Column name, type : Street Name, object : values(s) missing\n",
      "Column name, type : Block, object : values(s) missing\n",
      "Column name, type : Lot, object : values(s) missing\n",
      "Column name, type : Latest Action Date, object : values(s) missing\n",
      "Column name, type : Community - Board, object : values(s) missing\n",
      "Column name, type : Cluster, object : values(s) missing\n",
      "Column name, type : Landmarked, object : values(s) missing\n",
      "Column name, type : Adult Estab, object : values(s) missing\n",
      "Column name, type : Loft Board, object : values(s) missing\n",
      "Column name, type : City Owned, object : values(s) missing\n",
      "Column name, type : Little e, object : values(s) missing\n",
      "Column name, type : PC Filed, object : values(s) missing\n",
      "Column name, type : eFiling Filed, object : values(s) missing\n",
      "Column name, type : Plumbing, object : values(s) missing\n",
      "Column name, type : Mechanical, object : values(s) missing\n",
      "Column name, type : Boiler, object : values(s) missing\n",
      "Column name, type : Fuel Burning, object : values(s) missing\n",
      "Column name, type : Fuel Storage, object : values(s) missing\n",
      "Column name, type : Standpipe, object : values(s) missing\n",
      "Column name, type : Sprinkler, object : values(s) missing\n",
      "Column name, type : Fire Alarm, object : values(s) missing\n",
      "Column name, type : Equipment, object : values(s) missing\n",
      "Column name, type : Fire Suppression, object : values(s) missing\n",
      "Column name, type : Curb Cut, object : values(s) missing\n",
      "Column name, type : Other, object : values(s) missing\n",
      "Column name, type : Other Description, object : values(s) missing\n",
      "Column name, type : Applicant's First Name, object : values(s) missing\n",
      "Column name, type : Applicant's Last Name, object : values(s) missing\n",
      "Column name, type : Applicant Professional Title, object : values(s) missing\n",
      "Column name, type : Applicant License #, object : values(s) missing\n",
      "Column name, type : Professional Cert, object : values(s) missing\n",
      "Column name, type : Paid, object : values(s) missing\n",
      "Column name, type : Fully Paid, object : values(s) missing\n",
      "Column name, type : Assigned, object : values(s) missing\n",
      "Column name, type : Approved, object : values(s) missing\n",
      "Column name, type : Fully Permitted, object : values(s) missing\n",
      "Column name, type : Horizontal Enlrgmt, object : values(s) missing\n",
      "Column name, type : Vertical Enlrgmt, object : values(s) missing\n",
      "Column name, type : Existing Dwelling Units, object : values(s) missing\n",
      "Column name, type : Proposed Dwelling Units, object : values(s) missing\n",
      "Column name, type : Existing Occupancy, object : values(s) missing\n",
      "Column name, type : Proposed Occupancy, object : values(s) missing\n",
      "Column name, type : Site Fill, object : values(s) missing\n",
      "Column name, type : Zoning Dist1, object : values(s) missing\n",
      "Column name, type : Zoning Dist2, object : values(s) missing\n",
      "Column name, type : Zoning Dist3, object : values(s) missing\n",
      "Column name, type : Special District 1, object : values(s) missing\n",
      "Column name, type : Special District 2, object : values(s) missing\n",
      "Column name, type : Owner Type, object : values(s) missing\n",
      "Column name, type : Non-Profit, object : values(s) missing\n",
      "Column name, type : Owner's First Name, object : values(s) missing\n",
      "Column name, type : Owner's Last Name, object : values(s) missing\n",
      "Column name, type : Owner's Business Name, object : values(s) missing\n",
      "Column name, type : Owner's House Number, object : values(s) missing\n",
      "Column name, type : Owner'sHouse Street Name, object : values(s) missing\n",
      "Column name, type : City , object : values(s) missing\n",
      "Column name, type : State, object : values(s) missing\n",
      "Column name, type : Zip, object : values(s) missing\n",
      "Column name, type : Owner'sPhone #, object : values(s) missing\n",
      "Column name, type : Job Description, object : values(s) missing\n",
      "Column name, type : SIGNOFF_DATE, object : values(s) missing\n",
      "Column name, type : SPECIAL_ACTION_STATUS, object : values(s) missing\n",
      "Column name, type : SPECIAL_ACTION_DATE, object : values(s) missing\n",
      "Column name, type : BUILDING_CLASS, object : values(s) missing\n",
      "Column name, type : GIS_LATITUDE, float64 : values(s) missing\n",
      "Column name, type : GIS_LONGITUDE, float64 : values(s) missing\n",
      "Column name, type : GIS_COUNCIL_DISTRICT, float64 : values(s) missing\n",
      "Column name, type : GIS_CENSUS_TRACT, float64 : values(s) missing\n",
      "Column name, type : GIS_NTA_NAME, object : values(s) missing\n",
      "Column name, type : GIS_BIN, float64 : values(s) missing\n",
      "Remaining columns to clean : 71\n"
     ]
    }
   ],
   "source": [
    "rem = 0\n",
    "print(\"Number of rows before cleaning    : {}\".format(jobs_df.shape[0]))\n",
    "print(\"Number of columns before cleaning : {}\".format(jobs_df.shape[1]))\n",
    "for col in jobs_df.columns:\n",
    "    if jobs_df[col].isna().sum() >0:\n",
    "        rem += 1\n",
    "        print(\"Column name, type : {}, {} : values(s) missing\".format(col, jobs_df[col].dtypes, jobs_df[col].isna().sum()))\n",
    "print(\"Remaining columns to clean : {}\".format(rem))"
   ]
  },
  {
   "cell_type": "code",
   "execution_count": 5,
   "metadata": {},
   "outputs": [],
   "source": [
    "# Cleaning Job types columns :\n",
    "job_types = [\"Plumbing\", \"Mechanical\", \"Boiler\", \"Fuel Burning\", \"Fuel Storage\", \"Standpipe\", \n",
    "             \"Sprinkler\", \"Fire Alarm\", \"Equipment\", \"Fire Suppression\", \"Curb Cut\", \"Other\"]\n",
    "\n",
    "for job_type in job_types:\n",
    "    jobs_df[job_type] = jobs_df[job_type].map(lambda val: 1 if val == \"X\" else 0)"
   ]
  },
  {
   "cell_type": "code",
   "execution_count": 6,
   "metadata": {},
   "outputs": [],
   "source": [
    "# Cleaning Binary variables\n",
    "jobs_df[\"City Owned\"] = jobs_df[\"City Owned\"].map(lambda val: 1 if val == \"Y\" else 0)\n",
    "jobs_df[\"Landmarked\"] = jobs_df[\"Landmarked\"].map(lambda val: 1 if val == \"Y\" else 0)\n",
    "jobs_df[\"Adult Estab\"] = jobs_df[\"Adult Estab\"].map(lambda val: 0 if val == \"N\" else 1)\n",
    "jobs_df[\"Little e\"] = jobs_df[\"Little e\"].map(lambda val: 1 if val == \"H\" else 0)\n",
    "\n",
    "jobs_df[\"Zoning Dist1\"] = jobs_df[\"Zoning Dist1\"].map(lambda val: 0 if pd.isnull(val)  else 1) # Residence\n",
    "jobs_df[\"Zoning Dist2\"] = jobs_df[\"Zoning Dist2\"].map(lambda val: 0 if pd.isnull(val)  else 1) # Commercial\n",
    "jobs_df[\"Zoning Dist3\"] = jobs_df[\"Zoning Dist3\"].map(lambda val: 0 if pd.isnull(val)  else 1) # Manufacturing\n",
    "\n",
    "jobs_df[\"Special District 1\"] = jobs_df[\"Special District 1\"].map(lambda val: 1 if not pd.isnull(val) else 0)\n",
    "jobs_df[\"Special District 2\"] = jobs_df[\"Special District 2\"].map(lambda val: 1 if not pd.isnull(val) else 0)\n",
    "jobs_df[\"Special District\"] = jobs_df[\"Special District 1\"] + jobs_df[\"Special District 2\"]\n",
    "jobs_df[\"Special District\"] = jobs_df[\"Special District\"].map(lambda val: 0 if val == 0 else 1)\n",
    "\n",
    "# Cleaning missing values in other columns\n",
    "jobs_df[\"Vertical Enlrgmt\"] = jobs_df[\"Vertical Enlrgmt\"].map(lambda val: 0 if pd.isnull(val) or val == \"N\" else 1)\n",
    "jobs_df[\"Horizontal Enlrgmt\"] = jobs_df[\"Horizontal Enlrgmt\"].map(lambda val: 0 if pd.isnull(val) or val == \"N\" else 1)\n",
    "jobs_df[\"Other Description\"] = jobs_df[\"Other Description\"].map(lambda desc: desc if not pd.isnull(desc) else \"\")"
   ]
  },
  {
   "cell_type": "code",
   "execution_count": 7,
   "metadata": {},
   "outputs": [
    {
     "name": "stdout",
     "output_type": "stream",
     "text": [
      "37\n"
     ]
    }
   ],
   "source": [
    "# Dropping uniteresting columns\n",
    "useless_columns = [\"PC Filed\", \"eFiling Filed\", \"Cluster\", \"Loft Board\", \"Non-Profit\", \"Other Description\",\n",
    "                   \"Applicant's First Name\", \"Applicant's Last Name\", \"Applicant Professional Title\", \"Applicant License #\",\n",
    "                   \"Professional Cert\", \"Professional Cert\", \"Owner's First Name\", \"Owner's Last Name\", \"Owner's Business Name\",\n",
    "                   \"Owner's House Number\", \"Owner'sHouse Street Name\",\"Existing Dwelling Units\", \"Proposed Dwelling Units\",\n",
    "                   \"City \", \"State\", \"Zip\", \"Owner'sPhone #\", \"BUILDING_CLASS\", \"Job Description\", \"SIGNOFF_DATE\", \"Assigned\",\n",
    "                   \"Approved\", \"Fully Permitted\", \"Existing Occupancy\", \"Proposed Occupancy\", \"SPECIAL_ACTION_DATE\", \n",
    "                   \"SPECIAL_ACTION_STATUS\", \"Site Fill\", \"Special District 1\", \"Special District 2\", \"DOBRunDate\"]\n",
    "\n",
    "print(len(useless_columns))\n",
    "\n",
    "jobs_df = jobs_df.drop(labels = useless_columns, axis = 1)"
   ]
  },
  {
   "cell_type": "code",
   "execution_count": 8,
   "metadata": {},
   "outputs": [],
   "source": [
    "# Deletes rows with na values on these columns:\n",
    "columns_drop_na = [\"House #\", \"Street Name\", \"Block\", \"Lot\", \"GIS_LATITUDE\", \"GIS_LONGITUDE\",\n",
    "                   \"GIS_COUNCIL_DISTRICT\", \"GIS_CENSUS_TRACT\", \"GIS_NTA_NAME\", \"GIS_BIN\", \"Latest Action Date\",\n",
    "                   \"Community - Board\", \"Paid\", \"Fully Paid\", \"Owner Type\"]\n",
    "\n",
    "jobs_df = jobs_df.dropna(subset = columns_drop_na)"
   ]
  },
  {
   "cell_type": "code",
   "execution_count": 9,
   "metadata": {},
   "outputs": [],
   "source": [
    "# Removing the rows for which we don't know the initial cost\n",
    "jobs_df = jobs_df[jobs_df['Initial Cost']!=\"$0.00\"]"
   ]
  },
  {
   "cell_type": "code",
   "execution_count": 10,
   "metadata": {},
   "outputs": [],
   "source": [
    "# Converting prices to floats\n",
    "jobs_df[\"Initial Cost\"] = jobs_df[\"Initial Cost\"].apply(lambda x: x.replace('$','')).apply(lambda x: x.replace(',','')).astype(np.float64)\n",
    "jobs_df[\"Total Est. Fee\"] = jobs_df[\"Total Est. Fee\"].apply(lambda x: x.replace('$','')).apply(lambda x: x.replace(',','')).astype(np.float64)"
   ]
  },
  {
   "cell_type": "code",
   "execution_count": 11,
   "metadata": {},
   "outputs": [],
   "source": [
    "# Dates to datetime format\n",
    "dates_columns = [\"Paid\", \"Fully Paid\",\"Pre- Filing Date\", \"Latest Action Date\"]\n",
    "\n",
    "for c in dates_columns : \n",
    "    jobs_df[c] = pd.to_datetime(jobs_df[c])"
   ]
  },
  {
   "cell_type": "code",
   "execution_count": 12,
   "metadata": {},
   "outputs": [],
   "source": [
    "# # Horizontal Enlrgmt to dummy variables\n",
    "# l = list(data[\"Horizontal Enlrgmt\"])\n",
    "# for i in range(len(l)):\n",
    "#     if l[i]=='Y':\n",
    "#         l[i]=1\n",
    "#     elif l[i]=='N':\n",
    "#         l[i]=0\n",
    "#     elif l[i]=='0':\n",
    "#         l[i]=0\n",
    "# data[\"Horizontal Enlrgmt\"] = pd.Series(l)"
   ]
  },
  {
   "cell_type": "code",
   "execution_count": 13,
   "metadata": {
    "scrolled": true
   },
   "outputs": [
    {
     "name": "stdout",
     "output_type": "stream",
     "text": [
      "Number of rows after cleaning    : 1222083\n",
      "Number of columns after cleaning : 61\n"
     ]
    }
   ],
   "source": [
    "rem = 0\n",
    "print(\"Number of rows after cleaning    : {}\".format(jobs_df.shape[0]))\n",
    "print(\"Number of columns after cleaning : {}\".format(jobs_df.shape[1]))\n",
    "for col in jobs_df.columns:\n",
    "    if jobs_df[col].isna().sum() >0:\n",
    "        rem += 1\n",
    "        print(\"Column name, type : {}, {} : values(s) missing\".format(col, jobs_df[col].dtypes, jobs_df[col].isna().sum()))\n"
   ]
  },
  {
   "cell_type": "markdown",
   "metadata": {},
   "source": [
    "# Step 2 : Adjusting prices for inflation"
   ]
  },
  {
   "cell_type": "code",
   "execution_count": 17,
   "metadata": {},
   "outputs": [],
   "source": [
    "# Loading the buildings metadata\n",
    "cpi_path = \"../Datasets/CPI.csv\"\n",
    "cpi_df = pd.read_csv(cpi_path)"
   ]
  },
  {
   "cell_type": "code",
   "execution_count": 29,
   "metadata": {},
   "outputs": [
    {
     "data": {
      "text/plain": [
       "257.971"
      ]
     },
     "execution_count": 29,
     "metadata": {},
     "output_type": "execute_result"
    }
   ],
   "source": [
    "cpi_df.loc[252,\"Value\"]"
   ]
  },
  {
   "cell_type": "code",
   "execution_count": 24,
   "metadata": {},
   "outputs": [
    {
     "data": {
      "text/html": [
       "<div>\n",
       "<style scoped>\n",
       "    .dataframe tbody tr th:only-of-type {\n",
       "        vertical-align: middle;\n",
       "    }\n",
       "\n",
       "    .dataframe tbody tr th {\n",
       "        vertical-align: top;\n",
       "    }\n",
       "\n",
       "    .dataframe thead th {\n",
       "        text-align: right;\n",
       "    }\n",
       "</style>\n",
       "<table border=\"1\" class=\"dataframe\">\n",
       "  <thead>\n",
       "    <tr style=\"text-align: right;\">\n",
       "      <th></th>\n",
       "      <th>Series ID</th>\n",
       "      <th>Year</th>\n",
       "      <th>Period</th>\n",
       "      <th>Label</th>\n",
       "      <th>Value</th>\n",
       "    </tr>\n",
       "  </thead>\n",
       "  <tbody>\n",
       "    <tr>\n",
       "      <th>0</th>\n",
       "      <td>CUUR0000SA0</td>\n",
       "      <td>1999</td>\n",
       "      <td>M01</td>\n",
       "      <td>1999 Jan</td>\n",
       "      <td>164.300</td>\n",
       "    </tr>\n",
       "    <tr>\n",
       "      <th>1</th>\n",
       "      <td>CUUR0000SA0</td>\n",
       "      <td>1999</td>\n",
       "      <td>M02</td>\n",
       "      <td>1999 Feb</td>\n",
       "      <td>164.500</td>\n",
       "    </tr>\n",
       "    <tr>\n",
       "      <th>2</th>\n",
       "      <td>CUUR0000SA0</td>\n",
       "      <td>1999</td>\n",
       "      <td>M03</td>\n",
       "      <td>1999 Mar</td>\n",
       "      <td>165.000</td>\n",
       "    </tr>\n",
       "    <tr>\n",
       "      <th>3</th>\n",
       "      <td>CUUR0000SA0</td>\n",
       "      <td>1999</td>\n",
       "      <td>M04</td>\n",
       "      <td>1999 Apr</td>\n",
       "      <td>166.200</td>\n",
       "    </tr>\n",
       "    <tr>\n",
       "      <th>4</th>\n",
       "      <td>CUUR0000SA0</td>\n",
       "      <td>1999</td>\n",
       "      <td>M05</td>\n",
       "      <td>1999 May</td>\n",
       "      <td>166.200</td>\n",
       "    </tr>\n",
       "    <tr>\n",
       "      <th>...</th>\n",
       "      <td>...</td>\n",
       "      <td>...</td>\n",
       "      <td>...</td>\n",
       "      <td>...</td>\n",
       "      <td>...</td>\n",
       "    </tr>\n",
       "    <tr>\n",
       "      <th>257</th>\n",
       "      <td>CUUR0000SA0</td>\n",
       "      <td>2020</td>\n",
       "      <td>M06</td>\n",
       "      <td>2020 Jun</td>\n",
       "      <td>257.797</td>\n",
       "    </tr>\n",
       "    <tr>\n",
       "      <th>258</th>\n",
       "      <td>CUUR0000SA0</td>\n",
       "      <td>2020</td>\n",
       "      <td>M07</td>\n",
       "      <td>2020 Jul</td>\n",
       "      <td>259.101</td>\n",
       "    </tr>\n",
       "    <tr>\n",
       "      <th>259</th>\n",
       "      <td>CUUR0000SA0</td>\n",
       "      <td>2020</td>\n",
       "      <td>M08</td>\n",
       "      <td>2020 Aug</td>\n",
       "      <td>259.918</td>\n",
       "    </tr>\n",
       "    <tr>\n",
       "      <th>260</th>\n",
       "      <td>CUUR0000SA0</td>\n",
       "      <td>2020</td>\n",
       "      <td>M09</td>\n",
       "      <td>2020 Sep</td>\n",
       "      <td>260.280</td>\n",
       "    </tr>\n",
       "    <tr>\n",
       "      <th>261</th>\n",
       "      <td>CUUR0000SA0</td>\n",
       "      <td>2020</td>\n",
       "      <td>M10</td>\n",
       "      <td>2020 Oct</td>\n",
       "      <td>260.388</td>\n",
       "    </tr>\n",
       "  </tbody>\n",
       "</table>\n",
       "<p>262 rows × 5 columns</p>\n",
       "</div>"
      ],
      "text/plain": [
       "       Series ID  Year Period     Label    Value\n",
       "0    CUUR0000SA0  1999    M01  1999 Jan  164.300\n",
       "1    CUUR0000SA0  1999    M02  1999 Feb  164.500\n",
       "2    CUUR0000SA0  1999    M03  1999 Mar  165.000\n",
       "3    CUUR0000SA0  1999    M04  1999 Apr  166.200\n",
       "4    CUUR0000SA0  1999    M05  1999 May  166.200\n",
       "..           ...   ...    ...       ...      ...\n",
       "257  CUUR0000SA0  2020    M06  2020 Jun  257.797\n",
       "258  CUUR0000SA0  2020    M07  2020 Jul  259.101\n",
       "259  CUUR0000SA0  2020    M08  2020 Aug  259.918\n",
       "260  CUUR0000SA0  2020    M09  2020 Sep  260.280\n",
       "261  CUUR0000SA0  2020    M10  2020 Oct  260.388\n",
       "\n",
       "[262 rows x 5 columns]"
      ]
     },
     "execution_count": 24,
     "metadata": {},
     "output_type": "execute_result"
    }
   ],
   "source": [
    "cpi_df"
   ]
  },
  {
   "cell_type": "markdown",
   "metadata": {},
   "source": [
    "# Step 3 : Merging with the building info dataset"
   ]
  },
  {
   "cell_type": "code",
   "execution_count": 14,
   "metadata": {},
   "outputs": [
    {
     "name": "stderr",
     "output_type": "stream",
     "text": [
      "C:\\ProgramData\\Anaconda3\\lib\\site-packages\\IPython\\core\\interactiveshell.py:3071: DtypeWarning: Columns (19,20,22,24) have mixed types.Specify dtype option on import or set low_memory=False.\n",
      "  has_raised = await self.run_ast_nodes(code_ast.body, cell_name,\n"
     ]
    }
   ],
   "source": [
    "# Loading the buildings metadata\n",
    "building_path = \"../Datasets/pluto_20v6.csv\"\n",
    "buildings_df = pd.read_csv(building_path)"
   ]
  },
  {
   "cell_type": "code",
   "execution_count": 15,
   "metadata": {},
   "outputs": [],
   "source": [
    "buildings_df = buildings_df.filter(items = ['address',\"bldgclass\",\"landuse\",\"bldgarea\",\"numfloors\",\"unitsres\",\"unitstotal\",\"bldgfront\",\"bldgdepth\",\"lottype\",\"assesstot\",\"yearbuilt\",\"yearalter1\",\"yearalter2\",\"firm07_flag\",\"lot\",'block','ct2010'])\n",
    "buildings_df['firm07_flag'] = buildings_df['firm07_flag'].fillna(0)\n"
   ]
  },
  {
   "cell_type": "code",
   "execution_count": 18,
   "metadata": {},
   "outputs": [],
   "source": [
    "# Merging the cleaned jobs dataset with the buildings metadata\n",
    "final_df = pd.merge(buildings_df, jobs_df, how = \"right\", left_on = ['ct2010','lot','block'], right_on = ['GIS_CENSUS_TRACT','Lot','Block'])\n",
    "\n",
    "# Dropping rows with missing values\n",
    "final_df = final_df.dropna()\n",
    "\n",
    "final_df = final_df.loc[:, final_df.columns != 'Unnamed: 0']"
   ]
  },
  {
   "cell_type": "code",
   "execution_count": 19,
   "metadata": {},
   "outputs": [],
   "source": [
    "output_path = \"../Datasets/Jobs_and_buildings_merged_v2.0.csv\"\n",
    "final_df.to_csv(output_path)"
   ]
  },
  {
   "cell_type": "code",
   "execution_count": null,
   "metadata": {},
   "outputs": [],
   "source": []
  }
 ],
 "metadata": {
  "kernelspec": {
   "display_name": "Python 3",
   "language": "python",
   "name": "python3"
  },
  "language_info": {
   "codemirror_mode": {
    "name": "ipython",
    "version": 3
   },
   "file_extension": ".py",
   "mimetype": "text/x-python",
   "name": "python",
   "nbconvert_exporter": "python",
   "pygments_lexer": "ipython3",
   "version": "3.8.3"
  }
 },
 "nbformat": 4,
 "nbformat_minor": 4
}
